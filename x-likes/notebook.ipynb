{
 "cells": [
  {
   "cell_type": "code",
   "execution_count": null,
   "metadata": {},
   "outputs": [],
   "source": [
    "import pandas as pd\n",
    "from datetime import datetime\n",
    "import webbrowser\n",
    "\n",
    "# Open the links in the DataFrame in the default web browser\n",
    "def open_links_in_browser(df):\n",
    "    for index, row in df.iterrows():\n",
    "        webbrowser.open(row['Post URL'])\n",
    "\n",
    "# Initialize the DataFrame with 'hidden' column if it doesn't already exist\n",
    "def initialize_dataframe(file_path):\n",
    "    df = pd.read_csv(file_path)\n",
    "    if 'hidden' not in df.columns:\n",
    "        df['hidden'] = False\n",
    "        # Save the updated DataFrame to the same CSV file\n",
    "        df.to_csv(file_path, index=False)\n",
    "        print('Initialized hidden column in DataFrame')\n",
    "    print(f'Loaded DataFrame with {len(df)} rows')\n",
    "    return df\n",
    "\n",
    "file_path = 'liked_posts.csv'\n",
    "df = initialize_dataframe(file_path)"
   ]
  },
  {
   "cell_type": "code",
   "execution_count": null,
   "metadata": {},
   "outputs": [],
   "source": [
    "\n",
    "# On This Day: Surface posts on today's date from previous years where hidden is false\n",
    "def on_this_day(df):\n",
    "    today = datetime.now()\n",
    "    # Extract month and day from 'Datetime' column and filter by those values\n",
    "    df['Datetime'] = pd.to_datetime(df['Datetime'])\n",
    "    filtered_df = df[(df['Datetime'].dt.month == today.month) & \n",
    "                     (df['Datetime'].dt.day == today.day) & \n",
    "                     (df['hidden'] == False)]\n",
    "    return filtered_df\n",
    "\n",
    "# Show posts on today's date from previous years\n",
    "posts_on_this_day = on_this_day(df)\n",
    "print(\"Posts on this day from previous years:\")\n",
    "print(posts_on_this_day)\n",
    "open_links_in_browser(posts_on_this_day)"
   ]
  },
  {
   "cell_type": "code",
   "execution_count": null,
   "metadata": {},
   "outputs": [],
   "source": [
    "\n",
    "# Get Random Post: Surface n random posts where hidden is false\n",
    "def get_random_posts(df, n=1):\n",
    "    # Filter posts where 'hidden' is False\n",
    "    visible_posts = df[df['hidden'] == False]\n",
    "    # Get n random posts\n",
    "    random_posts = visible_posts.sample(n=n)\n",
    "    return random_posts\n",
    "\n",
    "# Get n random posts (for example, 3 random posts)\n",
    "random_posts = get_random_posts(df, n=3)\n",
    "print(\"\\nRandom posts:\")\n",
    "print(random_posts)\n",
    "open_links_in_browser(random_posts)"
   ]
  }
 ],
 "metadata": {
  "kernelspec": {
   "display_name": "Python 3",
   "language": "python",
   "name": "python3"
  },
  "language_info": {
   "codemirror_mode": {
    "name": "ipython",
    "version": 3
   },
   "file_extension": ".py",
   "mimetype": "text/x-python",
   "name": "python",
   "nbconvert_exporter": "python",
   "pygments_lexer": "ipython3",
   "version": "3.12.5"
  }
 },
 "nbformat": 4,
 "nbformat_minor": 2
}
